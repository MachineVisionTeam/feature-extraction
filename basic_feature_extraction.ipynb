{
 "cells": [
  {
   "cell_type": "markdown",
   "metadata": {},
   "source": [
    "### Importing Required Libraries\n",
    "##### This cell imports all the necessary libraries required for image processing, handling data, and visualizing results. Libraries include `numpy`, `pandas`, `skimage` for image processing, and `matplotlib` for plotting.\n"
   ]
  },
  {
   "cell_type": "code",
   "execution_count": 5,
   "metadata": {},
   "outputs": [],
   "source": [
    "import warnings\n",
    "import numpy as np\n",
    "import pandas as pd\n",
    "from skimage import io, measure\n",
    "from PIL import Image\n",
    "import os\n",
    "import math\n",
    "import matplotlib.pyplot as plt\n",
    "from skimage.draw import ellipse\n",
    "from skimage.measure import label, regionprops, regionprops_table\n",
    "from skimage.transform import rotate"
   ]
  },
  {
   "cell_type": "markdown",
   "metadata": {},
   "source": [
    "### Function to Convert a 2D Image with 3 Classes to a Binary Image\n",
    "##### This function reads a grayscale image and converts it into a binary image based on the class mapping provided. The image is converted into a NumPy array, and each pixel is mapped to its binary class.\n"
   ]
  },
  {
   "cell_type": "code",
   "execution_count": 6,
   "metadata": {},
   "outputs": [],
   "source": [
    "def convert_to_binary(image_path, class_mapping):\n",
    "    \"\"\"\n",
    "    Convert a 2D image with 3 classes to binary.\n",
    " \n",
    "    :param image_path: Path to the input image\n",
    "    :param class_mapping: Dictionary mapping original classes to binary classes\n",
    "    :return: Binary image as a NumPy array\n",
    "    \"\"\"\n",
    "    image = Image.open(image_path).convert(\"L\")  # Convert to grayscale\n",
    "    img_array = np.array(image)\n",
    " \n",
    "    # Apply the class mapping\n",
    "    binary_array = np.vectorize(lambda x: class_mapping.get(x, 0))(img_array)\n",
    "    return binary_array\n",
    " "
   ]
  },
  {
   "cell_type": "markdown",
   "metadata": {},
   "source": [
    "### Function to Compute Morphometry Features for Each Object in a Labeled Image\n",
    "##### This function calculates several morphometry features, such as area, eccentricity, extent, solidity, etc., for each labeled object in an image. It uses `skimage.measure.regionprops` to get the properties and stores them in a DataFrame for easy access.\n"
   ]
  },
  {
   "cell_type": "code",
   "execution_count": 7,
   "metadata": {},
   "outputs": [],
   "source": [
    "def compute_morphometry_features(im_label, rprops=None):\n",
    "    \"\"\"\n",
    "    Calculate morphometry features for each object in a labeled image.\n",
    "    \"\"\"\n",
    "    # Ensure the image is labeled\n",
    "    if im_label.max() <= 1 or (im_label.max() == 255 and im_label.min() == 0):\n",
    "        im_label = measure.label(im_label)\n",
    "   \n",
    "    # Compute object properties if not provided\n",
    "    if rprops is None:\n",
    "        rprops = measure.regionprops(im_label)\n",
    "   \n",
    "    is_3d = im_label.ndim == 3\n",
    "   \n",
    "    # Define the feature list as tuples of (feature name, attribute or function)\n",
    "    feature_list = [\n",
    "        ('Size.Area', 'area'),\n",
    "        ('Shape.Eccentricity', 'eccentricity'),\n",
    "        ('Shape.Extent', 'extent'),\n",
    "        ('Shape.Solidity', lambda rp: rp.area / rp.convex_area if rp.convex_area > 0 else np.nan),\n",
    "    ]\n",
    "   \n",
    "    # Add 2D-specific features\n",
    "    if not is_3d:\n",
    "        feature_list.extend([\n",
    "            ('Size.MajorAxisLength', 'major_axis_length'),\n",
    "            ('Size.MinorAxisLength', 'minor_axis_length'),\n",
    "            ('Size.Perimeter', lambda rp: measure.perimeter(rp.image)),\n",
    "            (\n",
    "                'Shape.Circularity',\n",
    "                lambda rp: 4 * np.pi * rp.area / (measure.perimeter(rp.image)**2) if measure.perimeter(rp.image) > 0 else np.nan,\n",
    "            ),\n",
    "        ])\n",
    "        \n",
    "    data = []\n",
    "    for prop in rprops:\n",
    "        row = []\n",
    "        for name, attr in feature_list:\n",
    "            if callable(attr):\n",
    "                try:\n",
    "                    value = attr(prop)\n",
    "                except Exception:\n",
    "                    value = np.nan\n",
    "            else:\n",
    "                try:\n",
    "                    value = getattr(prop, attr, np.nan)\n",
    "                except Exception:\n",
    "                    value = np.nan\n",
    "            # Check if the feature is Area or ConvexHullArea and ensure it is a float\n",
    "            if name in ('Size.Area', 'Size.ConvexHullArea'):\n",
    "                value = float(value)  # Cast to float here\n",
    "            row.append(value)\n",
    "        data.append(row)\n",
    "   \n",
    "    fdata = pd.DataFrame(data, columns=[name for name, _ in feature_list])\n",
    "    return fdata"
   ]
  },
  {
   "cell_type": "markdown",
   "metadata": {},
   "source": [
    "### Function to Calculate the Fractal Dimension of an Object (Boundary Complexity)\n",
    "##### This function calculates the fractal dimension of an object in a 2D binary image. The fractal dimension quantifies the complexity of the boundary of the object. The function uses a box-counting method to estimate the fractal dimension.\n"
   ]
  },
  {
   "cell_type": "code",
   "execution_count": 8,
   "metadata": {},
   "outputs": [],
   "source": [
    "def _fractal_dimension(Z):\n",
    "    \"\"\"\n",
    "    Calculate the fractal dimension of an object (boundary complexity).\n",
    "    \"\"\"\n",
    "    # Only for 2d binary image\n",
    "    assert len(Z.shape) == 2\n",
    "    Z = Z > 0\n",
    "   \n",
    "    def boxcount(arr, k):\n",
    "        S = np.add.reduceat(\n",
    "            np.add.reduceat(arr, np.arange(0, arr.shape[0], k), axis=0),\n",
    "            np.arange(0, arr.shape[1], k),\n",
    "            axis=1)\n",
    "        return len(np.where((S > 0) & (S < k * k))[0])\n",
    "   \n",
    "    # Minimal dimension of image\n",
    "    p = min(Z.shape)\n",
    "    # Greatest power of 2 less than or equal to p\n",
    "    n = 2 ** np.floor(np.log(p) / np.log(2))\n",
    "    # Extract the exponent\n",
    "    n = int(np.log(n) / np.log(2))\n",
    "    # Build successive box sizes (from 2**n down to 2**1)\n",
    "    sizes = 2 ** np.arange(n, 1, -1)\n",
    "    # Actual box counting with decreasing size\n",
    "    counts = []\n",
    "    for size in sizes:\n",
    "        counts.append(boxcount(Z, size))\n",
    "   \n",
    "    # Fit the successive log(sizes) with log (counts)\n",
    "    coeffs = [0]\n",
    "    with warnings.catch_warnings():\n",
    "        warnings.simplefilter('ignore', np.RankWarning)\n",
    "        if len(counts):\n",
    "            try:\n",
    "                coeffs = np.polyfit(np.log(sizes), np.log(counts), 1)\n",
    "            except TypeError:\n",
    "                pass\n",
    "    return -coeffs[0]"
   ]
  },
  {
   "cell_type": "markdown",
   "metadata": {},
   "source": [
    "### Visualization of Labeled Objects in an Image\n",
    "##### This cell creates a synthetic image with multiple ellipses, labels the image, and visualizes the labeled objects. The centroids, orientations, and bounding boxes of each region are plotted on the image using `matplotlib`.\n"
   ]
  },
  {
   "cell_type": "code",
   "execution_count": 9,
   "metadata": {},
   "outputs": [
    {
     "data": {
      "image/png": "[encoded data removed]",
      "text/plain": [
       "<Figure size 640x480 with 1 Axes>"
      ]
     },
     "metadata": {},
     "output_type": "display_data"
    }
   ],
   "source": [
    "# Visualization code\n",
    "image = np.zeros((600, 600))\n",
    "rr, cc = ellipse(300, 350, 100, 220)\n",
    "image[rr, cc] = 1\n",
    " \n",
    "image = rotate(image, angle=15, order=0)\n",
    " \n",
    "rr, cc = ellipse(100, 100, 60, 50)\n",
    "image[rr, cc] = 1\n",
    " \n",
    "label_img = label(image)\n",
    "regions = regionprops(label_img)\n",
    "fig, ax = plt.subplots()\n",
    "ax.imshow(image, cmap=plt.cm.gray)\n",
    " \n",
    "for props in regions:\n",
    "    y0, x0 = props.centroid\n",
    "    orientation = props.orientation\n",
    "    x1 = x0 + math.cos(orientation) * 0.5 * props.axis_minor_length\n",
    "    y1 = y0 - math.sin(orientation) * 0.5 * props.axis_minor_length\n",
    "    x2 = x0 - math.sin(orientation) * 0.5 * props.axis_major_length\n",
    "    y2 = y0 - math.cos(orientation) * 0.5 * props.axis_major_length\n",
    " \n",
    "    ax.plot((x0, x1), (y0, y1), '-r', linewidth=2.5)\n",
    "    ax.plot((x0, x2), (y0, y2), '-r', linewidth=2.5)\n",
    "    ax.plot(x0, y0, '.g', markersize=15)\n",
    " \n",
    "    minr, minc, maxr, maxc = props.bbox\n",
    "    bx = (minc, maxc, maxc, minc, minc)\n",
    "    by = (minr, minr, maxr, maxr, minr)\n",
    "    ax.plot(bx, by, '-b', linewidth=2.5)\n",
    " \n",
    "ax.axis((0, 600, 600, 0))\n",
    "plt.show()"
   ]
  },
  {
   "cell_type": "markdown",
   "metadata": {},
   "source": [
    "### Convert Region Properties into a DataFrame\n",
    "##### This cell extracts the centroids, orientations, and axis lengths of each labeled object in the image and stores them in a pandas DataFrame for further analysis.\n"
   ]
  },
  {
   "cell_type": "code",
   "execution_count": 10,
   "metadata": {},
   "outputs": [
    {
     "name": "stdout",
     "output_type": "stream",
     "text": [
      "   centroid-0  centroid-1  orientation  axis_major_length  axis_minor_length\n",
      "0  100.000000  100.000000     0.000000         119.807049          99.823995\n",
      "1  286.914167  348.412995    -1.308966         440.015503         199.918850\n"
     ]
    }
   ],
   "source": [
    "props = regionprops_table(\n",
    "    label_img,\n",
    "    properties=('centroid', 'orientation', 'axis_major_length', 'axis_minor_length'),\n",
    ")\n",
    "df_visualization = pd.DataFrame(props)\n",
    "print(df_visualization)\n",
    " "
   ]
  },
  {
   "cell_type": "markdown",
   "metadata": {},
   "source": [
    "### Defining Class Mapping for Binary Conversion\n",
    "##### Here, we define a dictionary to map the original classes of the image to binary classes. For example, pixels of class 0 and 1 are mapped to 0 (background), while class 2 is mapped to 1 (object).\n",
    "\n"
   ]
  },
  {
   "cell_type": "code",
   "execution_count": 11,
   "metadata": {},
   "outputs": [],
   "source": [
    "# Define the mapping from original classes to binary classes\n",
    "class_mapping = {\n",
    "    0: 0,\n",
    "    1: 0,\n",
    "    2: 1\n",
    "}"
   ]
  },
  {
   "cell_type": "markdown",
   "metadata": {},
   "source": [
    "### Processing a Directory of Images and Computing Morphometry Features\n",
    "##### This function processes all images in a given directory, converts them to binary using the class mapping, and then computes morphometry features for each object in the images. The features are combined into a single DataFrame.\n"
   ]
  },
  {
   "cell_type": "code",
   "execution_count": 12,
   "metadata": {},
   "outputs": [],
   "source": [
    "def process_directory(directory_path, class_mapping):\n",
    "    \"\"\"\n",
    "    Process all images in the given directory, convert them to binary, and compute morphometry features.\n",
    " \n",
    "    :param directory_path: Path to the directory containing images\n",
    "    :param class_mapping: Dictionary mapping original classes to binary classes\n",
    "    :return: DataFrame with morphometry features of all images\n",
    "    \"\"\"\n",
    "    all_features = []\n",
    "   \n",
    "    for filename in os.listdir(directory_path):\n",
    "        if filename.endswith(\".png\"):  # You can add more extensions if needed\n",
    "            mask_path = os.path.join(directory_path, filename)\n",
    "            binary_image = convert_to_binary(mask_path, class_mapping)\n",
    "            features = compute_morphometry_features(binary_image)\n",
    "            all_features.append(features)\n",
    " \n",
    "    # Combine all features into a single DataFrame\n",
    "    result = pd.concat(all_features, ignore_index=True)\n",
    "    return result\n",
    " \n",
    "\n",
    " \n",
    " "
   ]
  },
  {
   "cell_type": "markdown",
   "metadata": {},
   "source": [
    "### Running the Image Processing on a Directory and Saving Results\n",
    "##### This cell sets the directory path containing the images, processes the images to compute morphometry features, and saves the results to a CSV file for further use.\n"
   ]
  },
  {
   "cell_type": "code",
   "execution_count": 13,
   "metadata": {},
   "outputs": [
    {
     "name": "stdout",
     "output_type": "stream",
     "text": [
      "       Size.Area  Shape.Eccentricity  Shape.Extent  Shape.Solidity  \\\n",
      "0       173586.0            0.921814      0.394514        0.492179   \n",
      "1      1575536.0            0.889781      0.226039        0.232343   \n",
      "2          565.0            0.949901      0.387517        0.625000   \n",
      "3           78.0            0.997071      0.557143        0.780000   \n",
      "4        17812.0            0.558972      0.235161        0.378955   \n",
      "...          ...                 ...           ...             ...   \n",
      "10049        1.0            0.000000      1.000000        1.000000   \n",
      "10050        1.0            0.000000      1.000000        1.000000   \n",
      "10051        2.0            1.000000      1.000000        1.000000   \n",
      "10052        7.0            0.991381      0.233333        0.700000   \n",
      "10053        1.0            0.000000      1.000000        1.000000   \n",
      "\n",
      "       Size.MajorAxisLength  Size.MinorAxisLength  Size.Perimeter  \\\n",
      "0               1098.321834            425.744375     9609.979649   \n",
      "1               4072.686233           1858.727116    65961.186371   \n",
      "2                 55.644152             17.391669      133.183766   \n",
      "3                 39.592429              3.028310       65.035534   \n",
      "4                259.517760            215.188577     1647.633693   \n",
      "...                     ...                   ...             ...   \n",
      "10049              0.000000              0.000000        0.000000   \n",
      "10050              0.000000              0.000000        0.000000   \n",
      "10051              2.000000              0.000000        0.000000   \n",
      "10052              8.704070              1.140348        7.242641   \n",
      "10053              0.000000              0.000000        0.000000   \n",
      "\n",
      "       Shape.Circularity  \n",
      "0               0.023620  \n",
      "1               0.004551  \n",
      "2               0.400272  \n",
      "3               0.231741  \n",
      "4               0.082452  \n",
      "...                  ...  \n",
      "10049                NaN  \n",
      "10050                NaN  \n",
      "10051                NaN  \n",
      "10052           1.676926  \n",
      "10053                NaN  \n",
      "\n",
      "[10054 rows x 8 columns]\n"
     ]
    }
   ],
   "source": [
    "# Set input directory\n",
    "directory_path = '/home/siri/masks'\n",
    " \n",
    "# Process the directory and get the features\n",
    "result = process_directory(directory_path, class_mapping)\n",
    " \n",
    "# Print the results\n",
    "print(result)\n",
    " \n",
    "# Optionally, save the results to a CSV file\n",
    "result.to_csv('morphometry_features.csv', index=False)"
   ]
  }
 ],
 "metadata": {
  "kernelspec": {
   "display_name": "Python 3",
   "language": "python",
   "name": "python3"
  },
  "language_info": {
   "codemirror_mode": {
    "name": "ipython",
    "version": 3
   },
   "file_extension": ".py",
   "mimetype": "text/x-python",
   "name": "python",
   "nbconvert_exporter": "python",
   "pygments_lexer": "ipython3",
   "version": "3.7.17"
  }
 },
 "nbformat": 4,
 "nbformat_minor": 2
}
