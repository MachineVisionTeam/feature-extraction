{
 "cells": [
  {
   "cell_type": "code",
   "execution_count": null,
   "id": "229cb5d4",
   "metadata": {
    "lines_to_next_cell": 1
   },
   "outputs": [],
   "source": [
    "import warnings\n",
    "import numpy as np\n",
    "import pandas as pd\n",
    "from skimage import io, measure\n",
    "from PIL import Image\n",
    "import os\n",
    "import math\n",
    "import matplotlib.pyplot as plt\n",
    "from skimage.draw import ellipse\n",
    "from skimage.measure import label, regionprops, regionprops_table\n",
    "from skimage.transform import rotate"
   ]
  },
  {
   "cell_type": "code",
   "execution_count": null,
   "id": "25ae32a6",
   "metadata": {
    "lines_to_next_cell": 1
   },
   "outputs": [],
   "source": [
    "def convert_to_binary(image_path, class_mapping):\n",
    "    \"\"\"\n",
    "    Convert a 2D image with 3 classes to binary.\n",
    " \n",
    "    :param image_path: Path to the input image\n",
    "    :param class_mapping: Dictionary mapping original classes to binary classes\n",
    "    :return: Binary image as a NumPy array\n",
    "    \"\"\"\n",
    "    image = Image.open(image_path).convert(\"L\")  # Convert to grayscale\n",
    "    img_array = np.array(image)\n",
    " \n",
    "    # Apply the class mapping\n",
    "    binary_array = np.vectorize(lambda x: class_mapping.get(x, 0))(img_array)\n",
    "    return binary_array"
   ]
  },
  {
   "cell_type": "code",
   "execution_count": null,
   "id": "c18a9a9f",
   "metadata": {
    "lines_to_next_cell": 1
   },
   "outputs": [],
   "source": [
    "def compute_morphometry_features(im_label, rprops=None):\n",
    "    \"\"\"\n",
    "    Calculate morphometry features for each object in a labeled image.\n",
    "    \"\"\"\n",
    "    # Ensure the image is labeled\n",
    "    if im_label.max() <= 1 or (im_label.max() == 255 and im_label.min() == 0):\n",
    "        im_label = measure.label(im_label)\n",
    "   \n",
    "    # Compute object properties if not provided\n",
    "    if rprops is None:\n",
    "        rprops = measure.regionprops(im_label)\n",
    "   \n",
    "    is_3d = im_label.ndim == 3\n",
    "   \n",
    "    # Define the feature list as tuples of (feature name, attribute or function)\n",
    "    feature_list = [\n",
    "        ('Size.Area', 'area'),\n",
    "        ('Shape.Eccentricity', 'eccentricity'),\n",
    "        ('Shape.Extent', 'extent'),\n",
    "        ('Shape.Solidity', lambda rp: rp.area / rp.convex_area if rp.convex_area > 0 else np.nan),\n",
    "    ]\n",
    "   \n",
    "    # Add 2D-specific features\n",
    "    if not is_3d:\n",
    "        feature_list.extend([\n",
    "            ('Size.MajorAxisLength', 'major_axis_length'),\n",
    "            ('Size.MinorAxisLength', 'minor_axis_length'),\n",
    "            ('Size.Perimeter', lambda rp: measure.perimeter(rp.image)),\n",
    "            (\n",
    "                'Shape.Circularity',\n",
    "                lambda rp: 4 * np.pi * rp.area / (measure.perimeter(rp.image)**2) if measure.perimeter(rp.image) > 0 else np.nan,\n",
    "            ),\n",
    "        ])\n",
    "   \n",
    "    data = []\n",
    "    for prop in rprops:\n",
    "        row = []\n",
    "        for name, attr in feature_list:\n",
    "            if callable(attr):\n",
    "                try:\n",
    "                    value = attr(prop)\n",
    "                except Exception:\n",
    "                    value = np.nan\n",
    "            else:\n",
    "                try:\n",
    "                    value = getattr(prop, attr, np.nan)\n",
    "                except Exception:\n",
    "                    value = np.nan\n",
    "            # Check if the feature is Area or ConvexHullArea and ensure it is a float\n",
    "            if name in ('Size.Area', 'Size.ConvexHullArea'):\n",
    "                value = float(value)  # Cast to float here\n",
    "            row.append(value)\n",
    "        data.append(row)\n",
    "   \n",
    "    fdata = pd.DataFrame(data, columns=[name for name, _ in feature_list])\n",
    "    return fdata"
   ]
  },
  {
   "cell_type": "code",
   "execution_count": null,
   "id": "691ef3ac",
   "metadata": {
    "lines_to_next_cell": 1
   },
   "outputs": [],
   "source": [
    "def _fractal_dimension(Z):\n",
    "    \"\"\"\n",
    "    Calculate the fractal dimension of an object (boundary complexity).\n",
    "    \"\"\"\n",
    "    # Only for 2d binary image\n",
    "    assert len(Z.shape) == 2\n",
    "    Z = Z > 0\n",
    "   \n",
    "    def boxcount(arr, k):\n",
    "        S = np.add.reduceat(\n",
    "            np.add.reduceat(arr, np.arange(0, arr.shape[0], k), axis=0),\n",
    "            np.arange(0, arr.shape[1], k),\n",
    "            axis=1)\n",
    "        return len(np.where((S > 0) & (S < k * k))[0])\n",
    "   \n",
    "    # Minimal dimension of image\n",
    "    p = min(Z.shape)\n",
    "    # Greatest power of 2 less than or equal to p\n",
    "    n = 2 ** np.floor(np.log(p) / np.log(2))\n",
    "    # Extract the exponent\n",
    "    n = int(np.log(n) / np.log(2))\n",
    "    # Build successive box sizes (from 2**n down to 2**1)\n",
    "    sizes = 2 ** np.arange(n, 1, -1)\n",
    "    # Actual box counting with decreasing size\n",
    "    counts = []\n",
    "    for size in sizes:\n",
    "        counts.append(boxcount(Z, size))\n",
    "   \n",
    "    # Fit the successive log(sizes) with log (counts)\n",
    "    coeffs = [0]\n",
    "    with warnings.catch_warnings():\n",
    "        warnings.simplefilter('ignore', np.RankWarning)\n",
    "        if len(counts):\n",
    "            try:\n",
    "                coeffs = np.polyfit(np.log(sizes), np.log(counts), 1)\n",
    "            except TypeError:\n",
    "                pass\n",
    "    return -coeffs[0]"
   ]
  },
  {
   "cell_type": "code",
   "execution_count": null,
   "id": "68cebb55",
   "metadata": {},
   "outputs": [],
   "source": [
    "# Visualization code\n",
    "image = np.zeros((600, 600))\n",
    "rr, cc = ellipse(300, 350, 100, 220)\n",
    "image[rr, cc] = 1"
   ]
  },
  {
   "cell_type": "code",
   "execution_count": null,
   "id": "f2e5c2bd",
   "metadata": {},
   "outputs": [],
   "source": [
    "image = rotate(image, angle=15, order=0)"
   ]
  },
  {
   "cell_type": "code",
   "execution_count": null,
   "id": "310f4fef",
   "metadata": {},
   "outputs": [],
   "source": [
    "rr, cc = ellipse(100, 100, 60, 50)\n",
    "image[rr, cc] = 1"
   ]
  },
  {
   "cell_type": "code",
   "execution_count": null,
   "id": "85543cd7",
   "metadata": {},
   "outputs": [],
   "source": [
    "label_img = label(image)\n",
    "regions = regionprops(label_img)\n",
    "fig, ax = plt.subplots()\n",
    "ax.imshow(image, cmap=plt.cm.gray)"
   ]
  },
  {
   "cell_type": "code",
   "execution_count": null,
   "id": "bb3831c9",
   "metadata": {},
   "outputs": [],
   "source": [
    "for props in regions:\n",
    "    y0, x0 = props.centroid\n",
    "    orientation = props.orientation\n",
    "    x1 = x0 + math.cos(orientation) * 0.5 * props.axis_minor_length\n",
    "    y1 = y0 - math.sin(orientation) * 0.5 * props.axis_minor_length\n",
    "    x2 = x0 - math.sin(orientation) * 0.5 * props.axis_major_length\n",
    "    y2 = y0 - math.cos(orientation) * 0.5 * props.axis_major_length\n",
    " \n",
    "    ax.plot((x0, x1), (y0, y1), '-r', linewidth=2.5)\n",
    "    ax.plot((x0, x2), (y0, y2), '-r', linewidth=2.5)\n",
    "    ax.plot(x0, y0, '.g', markersize=15)\n",
    " \n",
    "    minr, minc, maxr, maxc = props.bbox\n",
    "    bx = (minc, maxc, maxc, minc, minc)\n",
    "    by = (minr, minr, maxr, maxr, minr)\n",
    "    ax.plot(bx, by, '-b', linewidth=2.5)"
   ]
  },
  {
   "cell_type": "code",
   "execution_count": null,
   "id": "0c04127d",
   "metadata": {},
   "outputs": [],
   "source": [
    "ax.axis((0, 600, 600, 0))\n",
    "plt.show()"
   ]
  },
  {
   "cell_type": "code",
   "execution_count": null,
   "id": "42c4b40f",
   "metadata": {},
   "outputs": [],
   "source": [
    "props = regionprops_table(\n",
    "    label_img,\n",
    "    properties=('centroid', 'orientation', 'axis_major_length', 'axis_minor_length'),\n",
    ")\n",
    "df_visualization = pd.DataFrame(props)\n",
    "print(df_visualization)"
   ]
  },
  {
   "cell_type": "code",
   "execution_count": null,
   "id": "1e0ddac1",
   "metadata": {
    "lines_to_next_cell": 1
   },
   "outputs": [],
   "source": [
    "# Define the mapping from original classes to binary classes\n",
    "class_mapping = {\n",
    "    0: 0,\n",
    "    1: 0,\n",
    "    2: 1\n",
    "}"
   ]
  },
  {
   "cell_type": "code",
   "execution_count": null,
   "id": "bdfe22dc",
   "metadata": {
    "lines_to_next_cell": 1
   },
   "outputs": [],
   "source": [
    "def process_directory(directory_path, class_mapping):\n",
    "    \"\"\"\n",
    "    Process all images in the given directory, convert them to binary, and compute morphometry features.\n",
    " \n",
    "    :param directory_path: Path to the directory containing images\n",
    "    :param class_mapping: Dictionary mapping original classes to binary classes\n",
    "    :return: DataFrame with morphometry features of all images\n",
    "    \"\"\"\n",
    "    all_features = []\n",
    "   \n",
    "    for filename in os.listdir(directory_path):\n",
    "        if filename.endswith(\".png\"):  # You can add more extensions if needed\n",
    "            mask_path = os.path.join(directory_path, filename)\n",
    "            binary_image = convert_to_binary(mask_path, class_mapping)\n",
    "            features = compute_morphometry_features(binary_image)\n",
    "            all_features.append(features)\n",
    " \n",
    "    # Combine all features into a single DataFrame\n",
    "    result = pd.concat(all_features, ignore_index=True)\n",
    "    return result"
   ]
  },
  {
   "cell_type": "code",
   "execution_count": null,
   "id": "b6c7dc19",
   "metadata": {},
   "outputs": [],
   "source": [
    "# Set input directory\n",
    "directory_path = '/home/siri/masks'"
   ]
  },
  {
   "cell_type": "code",
   "execution_count": null,
   "id": "3d018872",
   "metadata": {},
   "outputs": [],
   "source": [
    "# Process the directory and get the features\n",
    "result = process_directory(directory_path, class_mapping)"
   ]
  },
  {
   "cell_type": "code",
   "execution_count": null,
   "id": "5e816a48",
   "metadata": {},
   "outputs": [],
   "source": [
    "# Print the results\n",
    "print(result)"
   ]
  },
  {
   "cell_type": "code",
   "execution_count": null,
   "id": "2d378e45",
   "metadata": {
    "lines_to_next_cell": 2
   },
   "outputs": [],
   "source": [
    "# Optionally, save the results to a CSV file\n",
    "result.to_csv('morphometry_features.csv', index=False)"
   ]
  }
 ],
 "metadata": {
  "jupytext": {
   "cell_metadata_filter": "-all",
   "main_language": "python",
   "notebook_metadata_filter": "-all"
  }
 },
 "nbformat": 4,
 "nbformat_minor": 5
}
