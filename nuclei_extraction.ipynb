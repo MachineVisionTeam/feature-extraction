{
 "cells": [
  {
   "cell_type": "code",
   "execution_count": null,
   "metadata": {},
   "outputs": [],
   "source": [
    "# Extract features from the mask image\n",
    "# Cell type\n",
    "#0. background\n",
    "#1. neoplastic\n",
    "#2. inflammatory\n",
    "#3. soft tissue\n",
    "#4. dead\n",
    "#5. epithelial"
   ]
  },
  {
   "cell_type": "code",
   "execution_count": null,
   "metadata": {},
   "outputs": [],
   "source": [
    "import math\n",
    "import numpy as np\n",
    "import skimage\n",
    "import matplotlib.pyplot as plt\n",
    "import histomicstk as htk\n",
    "import matplotlib.patches as mpatches"
   ]
  },
  {
   "cell_type": "code",
   "execution_count": null,
   "metadata": {},
   "outputs": [],
   "source": [
    "# Set source files\n",
    "source_dir = '/mnt/storage2/PanNuke/fold1/'\n",
    "tissue_dir = 'Breast/'\n",
    "images = source_dir+tissue_dir+'images/img_Breast_1_00000.png'\n",
    "# masks = source_dir+tissue_dir+'sem_masks/sem_Breast_1_00000.png'\n",
    "masks = '/home/slee297/sem_masks/test.png'"
   ]
  },
  {
   "cell_type": "code",
   "execution_count": null,
   "metadata": {},
   "outputs": [],
   "source": [
    "# Read images\n",
    "raw_image = skimage.io.imread(images)\n",
    "raw_mask = skimage.io.imread(masks)"
   ]
  },
  {
   "cell_type": "code",
   "execution_count": null,
   "metadata": {},
   "outputs": [],
   "source": [
    "# Confirm original images\n",
    "fig, ax = plt.subplots(1, 2)\n",
    "ax[0].imshow(raw_image)\n",
    "ax[1].imshow(raw_mask)"
   ]
  },
  {
   "cell_type": "code",
   "execution_count": null,
   "metadata": {},
   "outputs": [],
   "source": [
    "# Perform color normalization\n",
    "ref_image_file = ('https://data.kitware.com/api/v1/file/'\n",
    "                  '57718cc28d777f1ecd8a883c/download')  # L1.png\n",
    "im_reference = skimage.io.imread(ref_image_file)[:, :, :3]\n",
    "mean_ref, std_ref = htk.preprocessing.color_conversion.lab_mean_std(im_reference)\n",
    "im_nmzd = htk.preprocessing.color_normalization.reinhard(raw_image, mean_ref, std_ref)"
   ]
  },
  {
   "cell_type": "code",
   "execution_count": null,
   "metadata": {},
   "outputs": [],
   "source": [
    "# Perform color deconvolution\n",
    "# create stain to color map\n",
    "stainColorMap = {\n",
    "    'hematoxylin': [0.65, 0.70, 0.29],\n",
    "    'eosin':       [0.07, 0.99, 0.11],\n",
    "    'dab':         [0.27, 0.57, 0.78],\n",
    "    'null':        [0.0, 0.0, 0.0],\n",
    "}\n",
    "\n",
    "# specify stains of input image\n",
    "stain_1 = 'hematoxylin'   # nuclei stain\n",
    "stain_2 = 'eosin'         # cytoplasm stain\n",
    "stain_3 = 'null'          # set to null of input contains only two stains\n",
    "\n",
    "# create stain matrix\n",
    "W = np.array([stainColorMap[stain_1],\n",
    "              stainColorMap[stain_2],\n",
    "              stainColorMap[stain_3]]).T\n",
    "\n",
    "# perform standard color deconvolution\n",
    "im_stains = htk.preprocessing.color_deconvolution.color_deconvolution(im_nmzd, W).Stains\n",
    "im_intensity = im_stains[:, :, 0]"
   ]
  },
  {
   "cell_type": "code",
   "execution_count": null,
   "metadata": {},
   "outputs": [],
   "source": [
    "# Confirm original, normalized, and deconvolved images\n",
    "fig, ax = plt.subplots(1, 3)\n",
    "ax[0].imshow(raw_image)\n",
    "ax[1].imshow(im_nmzd)\n",
    "ax[2].imshow(im_intensity)"
   ]
  },
  {
   "cell_type": "code",
   "execution_count": null,
   "metadata": {},
   "outputs": [],
   "source": [
    "# Change to labels\n",
    "im_label = skimage.measure.label(raw_mask)"
   ]
  },
  {
   "cell_type": "code",
   "execution_count": null,
   "metadata": {},
   "outputs": [],
   "source": [
    "# find morphometry features\n",
    "morphometry_features = htk.features.compute_morphometry_features(im_label)"
   ]
  },
  {
   "cell_type": "code",
   "execution_count": null,
   "metadata": {},
   "outputs": [],
   "source": [
    "# find FSD features\n",
    "FSD_features = htk.features.compute_fsd_features(im_label)"
   ]
  },
  {
   "cell_type": "code",
   "execution_count": null,
   "metadata": {},
   "outputs": [],
   "source": [
    "# find gradient features\n",
    "gradient_features = htk.features.compute_gradient_features(im_label, im_intensity)"
   ]
  },
  {
   "cell_type": "code",
   "execution_count": null,
   "metadata": {},
   "outputs": [],
   "source": [
    "# find Haralick features\n",
    "Haralick_features = htk.features.compute_haralick_features(im_label, im_intensity)"
   ]
  },
  {
   "cell_type": "code",
   "execution_count": null,
   "metadata": {},
   "outputs": [],
   "source": [
    "# find intensity features\n",
    "intensity_features = htk.features.compute_intensity_features(im_label, im_intensity)"
   ]
  },
  {
   "cell_type": "code",
   "execution_count": null,
   "metadata": {},
   "outputs": [],
   "source": [
    "# find all nuclei features\n",
    "nuclei_features = htk.features.compute_nuclei_features(im_label, im_intensity)"
   ]
  },
  {
   "cell_type": "code",
   "execution_count": null,
   "metadata": {},
   "outputs": [],
   "source": [
    "# find label numbers\n",
    "label_list = np.unique(im_label)"
   ]
  },
  {
   "cell_type": "code",
   "execution_count": null,
   "metadata": {},
   "outputs": [],
   "source": [
    "# find mask number from labels\n",
    "mask_list = []\n",
    "for i in label_list:\n",
    "    if i != 0:\n",
    "        mask_label = np.unique(raw_mask[np.where(im_label == label_list[i])])\n",
    "        if len(mask_label) == 1:\n",
    "            mask_list.append(mask_label[0])    "
   ]
  },
  {
   "cell_type": "code",
   "execution_count": null,
   "metadata": {},
   "outputs": [],
   "source": [
    "# add a column for mask number; note that the mask number is annotated tissue number\n",
    "nuclei_features.insert(1, \"Mask\", mask_list, True)"
   ]
  },
  {
   "cell_type": "code",
   "execution_count": null,
   "metadata": {},
   "outputs": [],
   "source": []
  },
  {
   "cell_type": "code",
   "execution_count": null,
   "metadata": {},
   "outputs": [],
   "source": []
  },
  {
   "cell_type": "code",
   "execution_count": null,
   "metadata": {},
   "outputs": [],
   "source": []
  },
  {
   "cell_type": "code",
   "execution_count": null,
   "metadata": {},
   "outputs": [],
   "source": []
  },
  {
   "cell_type": "code",
   "execution_count": null,
   "metadata": {},
   "outputs": [],
   "source": []
  }
 ],
 "metadata": {
  "colab": {
   "authorship_tag": "ABX9TyOyQPqZFTOOko+oV/VzOkGn",
   "provenance": []
  },
  "kernelspec": {
   "display_name": "Python 3 (ipykernel)",
   "language": "python",
   "name": "python3"
  },
  "language_info": {
   "codemirror_mode": {
    "name": "ipython",
    "version": 3
   },
   "file_extension": ".py",
   "mimetype": "text/x-python",
   "name": "python",
   "nbconvert_exporter": "python",
   "pygments_lexer": "ipython3",
   "version": "3.8.18"
  }
 },
 "nbformat": 4,
 "nbformat_minor": 4
}
